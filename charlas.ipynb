{
 "metadata": {
  "name": "",
  "signature": "sha256:f5d36f633cf5549941eee8a3c1e798b9de0276c95139d65cdf8c631c3fa88c37"
 },
 "nbformat": 3,
 "nbformat_minor": 0,
 "worksheets": [
  {
   "cells": [
    {
     "cell_type": "heading",
     "level": 1,
     "metadata": {},
     "source": [
      "Hacking academia for fun and profit"
     ]
    },
    {
     "cell_type": "heading",
     "level": 1,
     "metadata": {},
     "source": [
      "La revoluci\u00f3n de Jupyter"
     ]
    },
    {
     "cell_type": "heading",
     "level": 1,
     "metadata": {},
     "source": [
      "Rob\u00f3tica Educativa con Android + Python + Ping\u00fcino-PIC18F4550"
     ]
    },
    {
     "cell_type": "heading",
     "level": 1,
     "metadata": {},
     "source": [
      "Machine Learning y problemas peque\u00f1os"
     ]
    },
    {
     "cell_type": "markdown",
     "metadata": {},
     "source": [
      "[Slides (que incluyen link al predictor del mundial y fuentes)](http://nbviewer.ipython.org/github/fisadev/talks/blob/master/machine-learning-intro-with-worldcup/machine-learning-intro-worldcup.ipynb)"
     ]
    },
    {
     "cell_type": "heading",
     "level": 1,
     "metadata": {},
     "source": [
      "Espiando procesos locales con Python-Ptrace"
     ]
    },
    {
     "cell_type": "heading",
     "level": 1,
     "metadata": {},
     "source": [
      "Fotograf\u00eda y modelamiento geom\u00e9trico para impresoras 3D"
     ]
    },
    {
     "cell_type": "heading",
     "level": 1,
     "metadata": {},
     "source": [
      "FOP-ARSAT: Simulando la Red Federal de Fibra \u00d3ptica usando Python"
     ]
    },
    {
     "cell_type": "markdown",
     "metadata": {},
     "source": [
      "http://git.io/k0ddIQ"
     ]
    },
    {
     "cell_type": "heading",
     "level": 1,
     "metadata": {},
     "source": [
      "Utilizando SVG para visualizar datos estructurados"
     ]
    },
    {
     "cell_type": "heading",
     "level": 1,
     "metadata": {},
     "source": [
      "Desarrollando mec\u00e1nica de fluidos con Python"
     ]
    },
    {
     "cell_type": "heading",
     "level": 1,
     "metadata": {},
     "source": [
      "Versionado de c\u00f3digo con git"
     ]
    },
    {
     "cell_type": "markdown",
     "metadata": {},
     "source": [
      "[Slides (con links a docs y tutoriales extras)](http://nbviewer.ipython.org/github/fisadev/talks/blob/master/git-intro/git-intro.ipynb)"
     ]
    },
    {
     "cell_type": "heading",
     "level": 1,
     "metadata": {},
     "source": [
      "Cameras, Apertures, and Contact Lenses"
     ]
    },
    {
     "cell_type": "heading",
     "level": 1,
     "metadata": {},
     "source": [
      "Diez consejos para un mejor software (de) cient\u00edfico(s)"
     ]
    },
    {
     "cell_type": "heading",
     "level": 1,
     "metadata": {},
     "source": [
      "Python Cient\u00edfico: migrando de Matlab a Python "
     ]
    },
    {
     "cell_type": "markdown",
     "metadata": {},
     "source": [
      "http://git.io/HhZJuA"
     ]
    },
    {
     "cell_type": "code",
     "collapsed": false,
     "input": [
      "Sistema de grabaci\u00f3n para detectar hablantes de Buenos Aires y C\u00f3rdoba"
     ],
     "language": "python",
     "metadata": {},
     "outputs": []
    },
    {
     "cell_type": "code",
     "collapsed": false,
     "input": [
      "Dise\u00f1o de un plan doctoral para el an\u00e1lisis de datos astrof\u00edsicos con Python"
     ],
     "language": "python",
     "metadata": {},
     "outputs": []
    },
    {
     "cell_type": "code",
     "collapsed": false,
     "input": [
      "Introduction to PyCUDA"
     ],
     "language": "python",
     "metadata": {},
     "outputs": []
    },
    {
     "cell_type": "markdown",
     "metadata": {},
     "source": [
      "# Charlas rel\u00e1mpago 20/10\n",
      "* PyCon Argentina 2014 [Juan Pedro Fissanotti](https://github.com/fisadev)"
     ]
    },
    {
     "cell_type": "markdown",
     "metadata": {},
     "source": [
      "# Charlas Rel\u00e1mpago 21/10"
     ]
    },
    {
     "cell_type": "markdown",
     "metadata": {},
     "source": [
      "# Charlas Rel\u00e1mpago 22/10\n",
      "\n",
      "* Visualizando h\u00e1bitos de m\u00fasia (Marguglio Nicol\u00e1s)\n",
      "* Prymatex el proyecto ([Diego van Haaster](https://github.com/diegomvh))\n",
      "* An\u00e1lisis multicriterio (Juan Cabral)\n",
      "* Optimizando c\u00f3digo Python: Mini-tips\n",
      "* Freelanscience (for fun, profit & learning) (Pablo Celayes)\n",
      "* Detectando Se\u00f1as de Truco con Python (Santaigo Avenda\u00f1o)\n",
      "* Proyecci\u00f3n de datos Bipatitios (Rodrigo Ren\u00e9 Cura)\n",
      "* Pilas en Colegios Secundarios ([Rodrigo Ren\u00e9 Cura](http://cenpat.academia.edu/RodrigoRen%C3%A9Cura), Romina Stickar)"
     ]
    },
    {
     "cell_type": "code",
     "collapsed": false,
     "input": [],
     "language": "python",
     "metadata": {},
     "outputs": []
    }
   ],
   "metadata": {}
  }
 ]
}